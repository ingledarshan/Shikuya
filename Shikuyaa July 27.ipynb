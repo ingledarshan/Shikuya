{
  "nbformat": 4,
  "nbformat_minor": 0,
  "metadata": {
    "colab": {
      "name": "Shikuyaa.ipynb",
      "provenance": [],
      "collapsed_sections": []
    },
    "kernelspec": {
      "name": "python3",
      "display_name": "Python 3"
    },
    "language_info": {
      "name": "python"
    },
    "accelerator": "GPU"
  },
  "cells": [
    {
      "cell_type": "code",
      "metadata": {
        "colab": {
          "base_uri": "https://localhost:8080/"
        },
        "id": "C18bmTR7xL8O",
        "outputId": "113f9c04-f56f-4d5a-caa3-96197a6d3fca"
      },
      "source": [
        "1+1"
      ],
      "execution_count": null,
      "outputs": [
        {
          "output_type": "execute_result",
          "data": {
            "text/plain": [
              "2"
            ]
          },
          "metadata": {
            "tags": []
          },
          "execution_count": 2
        }
      ]
    },
    {
      "cell_type": "code",
      "metadata": {
        "colab": {
          "base_uri": "https://localhost:8080/"
        },
        "id": "LDznMhhCxhfP",
        "outputId": "36a15347-7d6e-404e-8fea-fcf12d7eb5be"
      },
      "source": [
        "3*67576"
      ],
      "execution_count": null,
      "outputs": [
        {
          "output_type": "execute_result",
          "data": {
            "text/plain": [
              "202728"
            ]
          },
          "metadata": {
            "tags": []
          },
          "execution_count": 3
        }
      ]
    },
    {
      "cell_type": "code",
      "metadata": {
        "colab": {
          "base_uri": "https://localhost:8080/"
        },
        "id": "SPtBRLLVxjxf",
        "outputId": "9b09d209-6ece-4645-960c-8fc4ea3424df"
      },
      "source": [
        "# Write a program to find the area of triangle.\n",
        "\n",
        "base = 1.25\n",
        "height = 6.12\n",
        "area = 0.5 * base * height\n",
        "print(\"Area of Triangle with base=\", base, \"and height=\", height, \"is\",area )"
      ],
      "execution_count": null,
      "outputs": [
        {
          "output_type": "stream",
          "text": [
            "Area of Triangle with base= 1.25 and height= 6.12 is 3.825\n"
          ],
          "name": "stdout"
        }
      ]
    },
    {
      "cell_type": "code",
      "metadata": {
        "colab": {
          "base_uri": "https://localhost:8080/"
        },
        "id": "E64CJxaux8wx",
        "outputId": "ea444856-585d-4166-d6d8-478eb58074fe"
      },
      "source": [
        "name = \"Darshan\"\n",
        "print(name)"
      ],
      "execution_count": null,
      "outputs": [
        {
          "output_type": "stream",
          "text": [
            "Darshan\n"
          ],
          "name": "stdout"
        }
      ]
    },
    {
      "cell_type": "code",
      "metadata": {
        "colab": {
          "base_uri": "https://localhost:8080/"
        },
        "id": "pmVFlfkD0ArP",
        "outputId": "036c816f-791d-4552-f5d1-44e83d23055a"
      },
      "source": [
        "type(name)"
      ],
      "execution_count": null,
      "outputs": [
        {
          "output_type": "execute_result",
          "data": {
            "text/plain": [
              "str"
            ]
          },
          "metadata": {
            "tags": []
          },
          "execution_count": 12
        }
      ]
    },
    {
      "cell_type": "code",
      "metadata": {
        "colab": {
          "base_uri": "https://localhost:8080/"
        },
        "id": "WCbaO2RS0Elp",
        "outputId": "f5f27ef4-dfe0-497d-ca88-467aa9b7b7be"
      },
      "source": [
        "name = 100\n",
        "type(name)"
      ],
      "execution_count": null,
      "outputs": [
        {
          "output_type": "execute_result",
          "data": {
            "text/plain": [
              "int"
            ]
          },
          "metadata": {
            "tags": []
          },
          "execution_count": 13
        }
      ]
    },
    {
      "cell_type": "code",
      "metadata": {
        "colab": {
          "base_uri": "https://localhost:8080/"
        },
        "id": "N0d00ard0H0c",
        "outputId": "7a2616cf-9d4a-4ca4-f444-c9ebcf1adb65"
      },
      "source": [
        "name = 2.9789\n",
        "type(name)"
      ],
      "execution_count": null,
      "outputs": [
        {
          "output_type": "execute_result",
          "data": {
            "text/plain": [
              "float"
            ]
          },
          "metadata": {
            "tags": []
          },
          "execution_count": 14
        }
      ]
    },
    {
      "cell_type": "code",
      "metadata": {
        "colab": {
          "base_uri": "https://localhost:8080/"
        },
        "id": "Gq3tE8_10LbT",
        "outputId": "00a0d6b8-a1d1-499c-ba31-1606b59f45d6"
      },
      "source": [
        "name = 3 +868j\n",
        "type(name)"
      ],
      "execution_count": null,
      "outputs": [
        {
          "output_type": "execute_result",
          "data": {
            "text/plain": [
              "complex"
            ]
          },
          "metadata": {
            "tags": []
          },
          "execution_count": 15
        }
      ]
    },
    {
      "cell_type": "code",
      "metadata": {
        "colab": {
          "base_uri": "https://localhost:8080/"
        },
        "id": "Xjh2CS760OjG",
        "outputId": "c62d9e07-2242-4a27-8135-f518e1db4a2d"
      },
      "source": [
        "print(name)"
      ],
      "execution_count": null,
      "outputs": [
        {
          "output_type": "stream",
          "text": [
            "(3+868j)\n"
          ],
          "name": "stdout"
        }
      ]
    },
    {
      "cell_type": "code",
      "metadata": {
        "colab": {
          "base_uri": "https://localhost:8080/"
        },
        "id": "xbNFaHyW0PsX",
        "outputId": "fb1515d1-50c1-4ed9-88a0-4d16242e3762"
      },
      "source": [
        "name = input()\n",
        "print(\"Name entered is:\",name)"
      ],
      "execution_count": null,
      "outputs": [
        {
          "output_type": "stream",
          "text": [
            "7234785348\n",
            "Name entered is: 7234785348\n"
          ],
          "name": "stdout"
        }
      ]
    },
    {
      "cell_type": "code",
      "metadata": {
        "colab": {
          "base_uri": "https://localhost:8080/"
        },
        "id": "R7SdFmwZ0U9A",
        "outputId": "fb2c87c7-fcd5-4e82-fe18-fd0188277981"
      },
      "source": [
        "a = float(input()) # typecasting\n",
        "b = float(input())\n",
        "c = a + b\n",
        "print(c)"
      ],
      "execution_count": null,
      "outputs": [
        {
          "output_type": "stream",
          "text": [
            "39.87678\n",
            "65.76\n",
            "105.63678\n"
          ],
          "name": "stdout"
        }
      ]
    },
    {
      "cell_type": "code",
      "metadata": {
        "colab": {
          "base_uri": "https://localhost:8080/"
        },
        "id": "jVe-t6Ku0-uL",
        "outputId": "93e0d605-f0ca-4706-a2b6-07e00bcd001c"
      },
      "source": [
        "a = input()\n",
        "print(a)\n",
        "print(type(a))"
      ],
      "execution_count": null,
      "outputs": [
        {
          "output_type": "stream",
          "text": [
            "4-9j\n",
            "4-9j\n",
            "<class 'str'>\n"
          ],
          "name": "stdout"
        }
      ]
    },
    {
      "cell_type": "code",
      "metadata": {
        "colab": {
          "base_uri": "https://localhost:8080/"
        },
        "id": "PhYYD62M1MTR",
        "outputId": "0a56ac53-fd60-42f0-93f2-aba98b38f950"
      },
      "source": [
        "name = \"Darshan\"\n",
        "print(name)\n",
        "print(type(name))"
      ],
      "execution_count": null,
      "outputs": [
        {
          "output_type": "stream",
          "text": [
            "Darshan\n",
            "<class 'str'>\n"
          ],
          "name": "stdout"
        }
      ]
    },
    {
      "cell_type": "code",
      "metadata": {
        "colab": {
          "base_uri": "https://localhost:8080/"
        },
        "id": "5SlOu07Y3q-Y",
        "outputId": "53a44f18-ed31-4b50-cae9-4dff87142ee1"
      },
      "source": [
        "name = \"d\"\n",
        "print(name)\n",
        "print(type(name))"
      ],
      "execution_count": null,
      "outputs": [
        {
          "output_type": "stream",
          "text": [
            "d\n",
            "<class 'str'>\n"
          ],
          "name": "stdout"
        }
      ]
    },
    {
      "cell_type": "code",
      "metadata": {
        "colab": {
          "base_uri": "https://localhost:8080/"
        },
        "id": "QwSOWlaw3s2I",
        "outputId": "b7092bab-34ae-4f05-e91b-07987c5d2ab3"
      },
      "source": [
        "name = 'Darshan'\n",
        "print(name)\n",
        "print(type(name))"
      ],
      "execution_count": null,
      "outputs": [
        {
          "output_type": "stream",
          "text": [
            "Darshan\n",
            "<class 'str'>\n"
          ],
          "name": "stdout"
        }
      ]
    },
    {
      "cell_type": "code",
      "metadata": {
        "colab": {
          "base_uri": "https://localhost:8080/"
        },
        "id": "oIrz7x3z3vf4",
        "outputId": "c3f534da-656e-4df2-bd2f-0087384e17ba"
      },
      "source": [
        "name = 'd'\n",
        "print(name)\n",
        "print(type(name))"
      ],
      "execution_count": null,
      "outputs": [
        {
          "output_type": "stream",
          "text": [
            "d\n",
            "<class 'str'>\n"
          ],
          "name": "stdout"
        }
      ]
    },
    {
      "cell_type": "code",
      "metadata": {
        "colab": {
          "base_uri": "https://localhost:8080/"
        },
        "id": "xt1I_ErL3xQI",
        "outputId": "b3602be8-2e94-47d3-a640-a356c7a46c10"
      },
      "source": [
        "# Write a program to accept three numbers from the user \n",
        "# and display the largest number.\n",
        "\n",
        "a = int(input(\"Enter the 1st number:\"))\n",
        "b = int(input(\"Enter the 2nd number:\"))\n",
        "c = int(input(\"Enter the 3rd number:\"))\n",
        "\n",
        "if a>b:\n",
        "  if a>c:\n",
        "    print(a,\"is the largest\")\n",
        "  else:\n",
        "    print(c,\"is the largest\")\n",
        "elif b>c:\n",
        "  print(b,\"is the largest\")"
      ],
      "execution_count": null,
      "outputs": [
        {
          "output_type": "stream",
          "text": [
            "Enter the 1st number:11\n",
            "Enter the 2nd number:44\n",
            "Enter the 3rd number:666\n"
          ],
          "name": "stdout"
        }
      ]
    },
    {
      "cell_type": "markdown",
      "metadata": {
        "id": "Z3S-fRPS_9G7"
      },
      "source": [
        "# Happy Learning"
      ]
    },
    {
      "cell_type": "code",
      "metadata": {
        "colab": {
          "base_uri": "https://localhost:8080/"
        },
        "id": "U3NnZSSK-jj6",
        "outputId": "7981e825-f6a1-4917-f457-5fceaf87a473"
      },
      "source": [
        "# Factorial of a Number\n",
        "\n",
        "import math as m\n",
        "m.factorial(5)"
      ],
      "execution_count": null,
      "outputs": [
        {
          "output_type": "execute_result",
          "data": {
            "text/plain": [
              "120"
            ]
          },
          "metadata": {
            "tags": []
          },
          "execution_count": 5
        }
      ]
    },
    {
      "cell_type": "code",
      "metadata": {
        "id": "yQKCcdcW-txH",
        "colab": {
          "base_uri": "https://localhost:8080/"
        },
        "outputId": "a9dc6352-7074-44b8-9952-0745b84849eb"
      },
      "source": [
        "import math\n",
        "math.sin(90)"
      ],
      "execution_count": null,
      "outputs": [
        {
          "output_type": "execute_result",
          "data": {
            "text/plain": [
              "0.8939966636005579"
            ]
          },
          "metadata": {
            "tags": []
          },
          "execution_count": 6
        }
      ]
    },
    {
      "cell_type": "code",
      "metadata": {
        "colab": {
          "base_uri": "https://localhost:8080/"
        },
        "id": "7UBn-Yw__cAR",
        "outputId": "1bf6f0cb-7a37-468a-eda7-44cfd0a79868"
      },
      "source": [
        "math.factorial(7)"
      ],
      "execution_count": null,
      "outputs": [
        {
          "output_type": "execute_result",
          "data": {
            "text/plain": [
              "5040"
            ]
          },
          "metadata": {
            "tags": []
          },
          "execution_count": 7
        }
      ]
    },
    {
      "cell_type": "markdown",
      "metadata": {
        "id": "jh8UEy3BF88U"
      },
      "source": [
        "initialization\n",
        "while condition:\n",
        "  do this\n",
        "  do this\n",
        "  increment / decrement"
      ]
    },
    {
      "cell_type": "code",
      "metadata": {
        "colab": {
          "base_uri": "https://localhost:8080/"
        },
        "id": "dg3tjQX6_g2_",
        "outputId": "ef675548-756a-41a7-972d-1991ef5cdb73"
      },
      "source": [
        "# Reverse a number in python\n",
        "\n",
        "n = int(input())\n",
        "copy = n\n",
        "remainder = 0\n",
        "rev = 0\n",
        "while n!=0:\n",
        "  remainder = n%10\n",
        "  rev = (rev * 10) + remainder\n",
        "  n = n//10\n",
        "\n",
        "print(\"Reverse of\",copy,\"is\",rev)"
      ],
      "execution_count": null,
      "outputs": [
        {
          "output_type": "stream",
          "text": [
            "123\n",
            "Reverse of 123 is 321\n"
          ],
          "name": "stdout"
        }
      ]
    },
    {
      "cell_type": "code",
      "metadata": {
        "colab": {
          "base_uri": "https://localhost:8080/"
        },
        "id": "fIK89MdxGzlc",
        "outputId": "b1852ee1-2145-4440-bc5e-55ac14ff87b2"
      },
      "source": [
        "13/2"
      ],
      "execution_count": null,
      "outputs": [
        {
          "output_type": "execute_result",
          "data": {
            "text/plain": [
              "6.5"
            ]
          },
          "metadata": {
            "tags": []
          },
          "execution_count": 12
        }
      ]
    },
    {
      "cell_type": "code",
      "metadata": {
        "colab": {
          "base_uri": "https://localhost:8080/"
        },
        "id": "GF1VYsP6GaXQ",
        "outputId": "24b52fb2-41cd-4612-b32e-f67dfd14c943"
      },
      "source": [
        "# Quotient\n",
        "13//2 # Floor Division"
      ],
      "execution_count": null,
      "outputs": [
        {
          "output_type": "execute_result",
          "data": {
            "text/plain": [
              "6"
            ]
          },
          "metadata": {
            "tags": []
          },
          "execution_count": 13
        }
      ]
    },
    {
      "cell_type": "code",
      "metadata": {
        "colab": {
          "base_uri": "https://localhost:8080/"
        },
        "id": "ovNqSjzaG624",
        "outputId": "cc2f3883-f3c1-45b8-dff9-93177450e7f2"
      },
      "source": [
        "# Remainder\n",
        "\n",
        "13%2 # Modulo"
      ],
      "execution_count": null,
      "outputs": [
        {
          "output_type": "execute_result",
          "data": {
            "text/plain": [
              "1"
            ]
          },
          "metadata": {
            "tags": []
          },
          "execution_count": 14
        }
      ]
    },
    {
      "cell_type": "code",
      "metadata": {
        "colab": {
          "base_uri": "https://localhost:8080/"
        },
        "id": "0oeVjZesG_pv",
        "outputId": "3de46739-6cae-4b48-e7f5-c321c55de466"
      },
      "source": [
        "# Natural Numbers from 1 to 20\n",
        "\n",
        "i = 1\n",
        "while i<=20:\n",
        "  print(i, end=\" \")\n",
        "  i = i+1 # i++ does not exist in Python"
      ],
      "execution_count": null,
      "outputs": [
        {
          "output_type": "stream",
          "text": [
            "1 2 3 4 5 6 7 8 9 10 11 12 13 14 15 16 17 18 19 20 "
          ],
          "name": "stdout"
        }
      ]
    },
    {
      "cell_type": "code",
      "metadata": {
        "id": "rumyKwaIIWnT",
        "colab": {
          "base_uri": "https://localhost:8080/"
        },
        "outputId": "81f69462-8607-4837-beb8-60772d5c8ba3"
      },
      "source": [
        "# Natural Numbers from 1 to 20\n",
        "\n",
        "i = 1\n",
        "while i<=20:\n",
        "  print(i)\n",
        "  i = i+1 # i++ does not exist in Python"
      ],
      "execution_count": null,
      "outputs": [
        {
          "output_type": "stream",
          "text": [
            "1\n",
            "2\n",
            "3\n",
            "4\n",
            "5\n",
            "6\n",
            "7\n",
            "8\n",
            "9\n",
            "10\n",
            "11\n",
            "12\n",
            "13\n",
            "14\n",
            "15\n",
            "16\n",
            "17\n",
            "18\n",
            "19\n",
            "20\n"
          ],
          "name": "stdout"
        }
      ]
    },
    {
      "cell_type": "markdown",
      "metadata": {
        "id": "weXeKGwOH09R"
      },
      "source": [
        "# Happy Learning"
      ]
    },
    {
      "cell_type": "code",
      "metadata": {
        "colab": {
          "base_uri": "https://localhost:8080/"
        },
        "id": "e_Mwgj8-HHht",
        "outputId": "31770073-8120-4688-c909-081a142a7be4"
      },
      "source": [
        "def abc():\n",
        "  print(\"Hi from abc\")\n",
        "  print(\"Leaving abc\")\n",
        "\n",
        "abc()"
      ],
      "execution_count": null,
      "outputs": [
        {
          "output_type": "stream",
          "text": [
            "Hi from abc\n",
            "Leaving abc\n"
          ],
          "name": "stdout"
        }
      ]
    },
    {
      "cell_type": "code",
      "metadata": {
        "colab": {
          "base_uri": "https://localhost:8080/"
        },
        "id": "2ZCrhxs5HpIG",
        "outputId": "273bf3c9-4e23-4258-b6c8-5c3060727eb8"
      },
      "source": [
        "print(\"Hi from main\")\n",
        "print(\"I am roaming in main\")\n",
        "abc()\n",
        "print(\"Back to main\")\n",
        "print(\"End of the code\")"
      ],
      "execution_count": null,
      "outputs": [
        {
          "output_type": "stream",
          "text": [
            "Hi from main\n",
            "I am roaming in main\n",
            "Hi from abc\n",
            "Leaving abc\n",
            "Back to main\n",
            "End of the code\n"
          ],
          "name": "stdout"
        }
      ]
    },
    {
      "cell_type": "code",
      "metadata": {
        "colab": {
          "base_uri": "https://localhost:8080/"
        },
        "id": "wXoYxMEhHy7G",
        "outputId": "1f8d0ea1-c210-41b1-fe23-4a136285cbb9"
      },
      "source": [
        "for i in range(10):\n",
        "  abc() # This will call abc 10 times"
      ],
      "execution_count": null,
      "outputs": [
        {
          "output_type": "stream",
          "text": [
            "Hi from abc\n",
            "Leaving abc\n",
            "Hi from abc\n",
            "Leaving abc\n",
            "Hi from abc\n",
            "Leaving abc\n",
            "Hi from abc\n",
            "Leaving abc\n",
            "Hi from abc\n",
            "Leaving abc\n",
            "Hi from abc\n",
            "Leaving abc\n",
            "Hi from abc\n",
            "Leaving abc\n",
            "Hi from abc\n",
            "Leaving abc\n",
            "Hi from abc\n",
            "Leaving abc\n",
            "Hi from abc\n",
            "Leaving abc\n"
          ],
          "name": "stdout"
        }
      ]
    },
    {
      "cell_type": "code",
      "metadata": {
        "colab": {
          "base_uri": "https://localhost:8080/"
        },
        "id": "u2kQCf1vIDc6",
        "outputId": "289adc54-9f6f-401d-e95b-858333ace5d2"
      },
      "source": [
        "#  WAP to check if a number is Palindrome or not using functions.\n",
        "\n",
        "def reverse_no(n):\n",
        "  rev = 0\n",
        "  while n!=0:\n",
        "    remainder = n%10\n",
        "    rev = rev*10 + remainder\n",
        "    n = n//10\n",
        "\n",
        "  return rev\n",
        "\n",
        "n = int(input(\"Enter the number to be checked for Palindrome:\"))\n",
        "rev = reverse_no(n)\n",
        "if n==rev:\n",
        "  print(n,\"is a Palindrome\")\n",
        "else:\n",
        "  print(n,\"is not a Palindrome\")"
      ],
      "execution_count": null,
      "outputs": [
        {
          "output_type": "stream",
          "text": [
            "Enter the number to be checked for Palindrome:1234321\n",
            "1234321 is a Palindrome\n"
          ],
          "name": "stdout"
        }
      ]
    },
    {
      "cell_type": "markdown",
      "metadata": {
        "id": "oJVhPv7SRJ_j"
      },
      "source": [
        "# Happy Learning"
      ]
    },
    {
      "cell_type": "code",
      "metadata": {
        "colab": {
          "base_uri": "https://localhost:8080/"
        },
        "id": "tJO1YmKZ2aug",
        "outputId": "822c541b-fe72-4aa5-e8ad-fda15c8d1d0b"
      },
      "source": [
        "for i in range(25):\n",
        "  print(i, end=\" \")"
      ],
      "execution_count": null,
      "outputs": [
        {
          "output_type": "stream",
          "text": [
            "0 1 2 3 4 5 6 7 8 9 10 11 12 13 14 15 16 17 18 19 20 21 22 23 24 "
          ],
          "name": "stdout"
        }
      ]
    },
    {
      "cell_type": "code",
      "metadata": {
        "colab": {
          "base_uri": "https://localhost:8080/"
        },
        "id": "efcM2eDm3NDx",
        "outputId": "5e27de44-fe97-45e2-e30a-0860ccbd1963"
      },
      "source": [
        "for i in range(2,12):\n",
        "  print(i, end=\" \")"
      ],
      "execution_count": null,
      "outputs": [
        {
          "output_type": "stream",
          "text": [
            "2 3 4 5 6 7 8 9 10 11 "
          ],
          "name": "stdout"
        }
      ]
    },
    {
      "cell_type": "code",
      "metadata": {
        "colab": {
          "base_uri": "https://localhost:8080/"
        },
        "id": "j22LjJJP3opZ",
        "outputId": "b500995e-36ed-4571-a57a-f6b94b3c8cab"
      },
      "source": [
        "for i in range(2,12,2):\n",
        "  print(i, end=\" \")"
      ],
      "execution_count": null,
      "outputs": [
        {
          "output_type": "stream",
          "text": [
            "2 4 6 8 10 "
          ],
          "name": "stdout"
        }
      ]
    },
    {
      "cell_type": "code",
      "metadata": {
        "colab": {
          "base_uri": "https://localhost:8080/"
        },
        "id": "RIcQdNP44VId",
        "outputId": "d345b478-8386-424b-cb03-a9b5a512962c"
      },
      "source": [
        "# Write C Program to print Perfect numbers between 1 to 10000.\n",
        "\n",
        "for check in range(1,10001):\n",
        "  sum=0\n",
        "  i=1\n",
        "  while i<=check//2:\n",
        "    rem = check%i\n",
        "    if rem==0:\n",
        "      sum = sum+i\n",
        "    i = i+1\n",
        "\n",
        "  if sum==check:\n",
        "    print(check,\"is a Perfect Number\")\n",
        "  "
      ],
      "execution_count": null,
      "outputs": [
        {
          "output_type": "stream",
          "text": [
            "6 is a Perfect Number\n",
            "28 is a Perfect Number\n",
            "496 is a Perfect Number\n",
            "8128 is a Perfect Number\n"
          ],
          "name": "stdout"
        }
      ]
    },
    {
      "cell_type": "code",
      "metadata": {
        "colab": {
          "base_uri": "https://localhost:8080/"
        },
        "id": "WWjbI2MA4lLn",
        "outputId": "dd179872-5ff6-4519-cb4b-2ed8c17b5c16"
      },
      "source": [
        "5/2"
      ],
      "execution_count": null,
      "outputs": [
        {
          "output_type": "execute_result",
          "data": {
            "text/plain": [
              "2.5"
            ]
          },
          "metadata": {
            "tags": []
          },
          "execution_count": 7
        }
      ]
    },
    {
      "cell_type": "code",
      "metadata": {
        "colab": {
          "base_uri": "https://localhost:8080/"
        },
        "id": "KpptVcSS5AQj",
        "outputId": "ec20ce88-067c-41ad-939d-5c41d047b197"
      },
      "source": [
        "5//2"
      ],
      "execution_count": null,
      "outputs": [
        {
          "output_type": "execute_result",
          "data": {
            "text/plain": [
              "2"
            ]
          },
          "metadata": {
            "tags": []
          },
          "execution_count": 8
        }
      ]
    },
    {
      "cell_type": "code",
      "metadata": {
        "id": "8Ov5baRD5CUF"
      },
      "source": [
        ""
      ],
      "execution_count": null,
      "outputs": []
    }
  ]
}