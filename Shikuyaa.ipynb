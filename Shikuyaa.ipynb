{
  "nbformat": 4,
  "nbformat_minor": 0,
  "metadata": {
    "colab": {
      "name": "Shikuyaa.ipynb",
      "provenance": [],
      "collapsed_sections": []
    },
    "kernelspec": {
      "name": "python3",
      "display_name": "Python 3"
    },
    "language_info": {
      "name": "python"
    }
  },
  "cells": [
    {
      "cell_type": "code",
      "metadata": {
        "colab": {
          "base_uri": "https://localhost:8080/"
        },
        "id": "C18bmTR7xL8O",
        "outputId": "113f9c04-f56f-4d5a-caa3-96197a6d3fca"
      },
      "source": [
        "1+1"
      ],
      "execution_count": 2,
      "outputs": [
        {
          "output_type": "execute_result",
          "data": {
            "text/plain": [
              "2"
            ]
          },
          "metadata": {
            "tags": []
          },
          "execution_count": 2
        }
      ]
    },
    {
      "cell_type": "code",
      "metadata": {
        "colab": {
          "base_uri": "https://localhost:8080/"
        },
        "id": "LDznMhhCxhfP",
        "outputId": "36a15347-7d6e-404e-8fea-fcf12d7eb5be"
      },
      "source": [
        "3*67576"
      ],
      "execution_count": 3,
      "outputs": [
        {
          "output_type": "execute_result",
          "data": {
            "text/plain": [
              "202728"
            ]
          },
          "metadata": {
            "tags": []
          },
          "execution_count": 3
        }
      ]
    },
    {
      "cell_type": "code",
      "metadata": {
        "colab": {
          "base_uri": "https://localhost:8080/"
        },
        "id": "SPtBRLLVxjxf",
        "outputId": "9b09d209-6ece-4645-960c-8fc4ea3424df"
      },
      "source": [
        "# Write a program to find the area of triangle.\n",
        "\n",
        "base = 1.25\n",
        "height = 6.12\n",
        "area = 0.5 * base * height\n",
        "print(\"Area of Triangle with base=\", base, \"and height=\", height, \"is\",area )"
      ],
      "execution_count": 10,
      "outputs": [
        {
          "output_type": "stream",
          "text": [
            "Area of Triangle with base= 1.25 and height= 6.12 is 3.825\n"
          ],
          "name": "stdout"
        }
      ]
    },
    {
      "cell_type": "code",
      "metadata": {
        "colab": {
          "base_uri": "https://localhost:8080/"
        },
        "id": "E64CJxaux8wx",
        "outputId": "ea444856-585d-4166-d6d8-478eb58074fe"
      },
      "source": [
        "name = \"Darshan\"\n",
        "print(name)"
      ],
      "execution_count": 11,
      "outputs": [
        {
          "output_type": "stream",
          "text": [
            "Darshan\n"
          ],
          "name": "stdout"
        }
      ]
    },
    {
      "cell_type": "code",
      "metadata": {
        "colab": {
          "base_uri": "https://localhost:8080/"
        },
        "id": "pmVFlfkD0ArP",
        "outputId": "036c816f-791d-4552-f5d1-44e83d23055a"
      },
      "source": [
        "type(name)"
      ],
      "execution_count": 12,
      "outputs": [
        {
          "output_type": "execute_result",
          "data": {
            "text/plain": [
              "str"
            ]
          },
          "metadata": {
            "tags": []
          },
          "execution_count": 12
        }
      ]
    },
    {
      "cell_type": "code",
      "metadata": {
        "colab": {
          "base_uri": "https://localhost:8080/"
        },
        "id": "WCbaO2RS0Elp",
        "outputId": "f5f27ef4-dfe0-497d-ca88-467aa9b7b7be"
      },
      "source": [
        "name = 100\n",
        "type(name)"
      ],
      "execution_count": 13,
      "outputs": [
        {
          "output_type": "execute_result",
          "data": {
            "text/plain": [
              "int"
            ]
          },
          "metadata": {
            "tags": []
          },
          "execution_count": 13
        }
      ]
    },
    {
      "cell_type": "code",
      "metadata": {
        "colab": {
          "base_uri": "https://localhost:8080/"
        },
        "id": "N0d00ard0H0c",
        "outputId": "7a2616cf-9d4a-4ca4-f444-c9ebcf1adb65"
      },
      "source": [
        "name = 2.9789\n",
        "type(name)"
      ],
      "execution_count": 14,
      "outputs": [
        {
          "output_type": "execute_result",
          "data": {
            "text/plain": [
              "float"
            ]
          },
          "metadata": {
            "tags": []
          },
          "execution_count": 14
        }
      ]
    },
    {
      "cell_type": "code",
      "metadata": {
        "colab": {
          "base_uri": "https://localhost:8080/"
        },
        "id": "Gq3tE8_10LbT",
        "outputId": "00a0d6b8-a1d1-499c-ba31-1606b59f45d6"
      },
      "source": [
        "name = 3 +868j\n",
        "type(name)"
      ],
      "execution_count": 15,
      "outputs": [
        {
          "output_type": "execute_result",
          "data": {
            "text/plain": [
              "complex"
            ]
          },
          "metadata": {
            "tags": []
          },
          "execution_count": 15
        }
      ]
    },
    {
      "cell_type": "code",
      "metadata": {
        "colab": {
          "base_uri": "https://localhost:8080/"
        },
        "id": "Xjh2CS760OjG",
        "outputId": "c62d9e07-2242-4a27-8135-f518e1db4a2d"
      },
      "source": [
        "print(name)"
      ],
      "execution_count": 16,
      "outputs": [
        {
          "output_type": "stream",
          "text": [
            "(3+868j)\n"
          ],
          "name": "stdout"
        }
      ]
    },
    {
      "cell_type": "code",
      "metadata": {
        "colab": {
          "base_uri": "https://localhost:8080/"
        },
        "id": "xbNFaHyW0PsX",
        "outputId": "fb1515d1-50c1-4ed9-88a0-4d16242e3762"
      },
      "source": [
        "name = input()\n",
        "print(\"Name entered is:\",name)"
      ],
      "execution_count": 22,
      "outputs": [
        {
          "output_type": "stream",
          "text": [
            "7234785348\n",
            "Name entered is: 7234785348\n"
          ],
          "name": "stdout"
        }
      ]
    },
    {
      "cell_type": "code",
      "metadata": {
        "colab": {
          "base_uri": "https://localhost:8080/"
        },
        "id": "R7SdFmwZ0U9A",
        "outputId": "fb2c87c7-fcd5-4e82-fe18-fd0188277981"
      },
      "source": [
        "a = float(input()) # typecasting\n",
        "b = float(input())\n",
        "c = a + b\n",
        "print(c)"
      ],
      "execution_count": 29,
      "outputs": [
        {
          "output_type": "stream",
          "text": [
            "39.87678\n",
            "65.76\n",
            "105.63678\n"
          ],
          "name": "stdout"
        }
      ]
    },
    {
      "cell_type": "code",
      "metadata": {
        "colab": {
          "base_uri": "https://localhost:8080/"
        },
        "id": "jVe-t6Ku0-uL",
        "outputId": "93e0d605-f0ca-4706-a2b6-07e00bcd001c"
      },
      "source": [
        "a = input()\n",
        "print(a)\n",
        "print(type(a))"
      ],
      "execution_count": 28,
      "outputs": [
        {
          "output_type": "stream",
          "text": [
            "4-9j\n",
            "4-9j\n",
            "<class 'str'>\n"
          ],
          "name": "stdout"
        }
      ]
    },
    {
      "cell_type": "code",
      "metadata": {
        "colab": {
          "base_uri": "https://localhost:8080/"
        },
        "id": "PhYYD62M1MTR",
        "outputId": "0a56ac53-fd60-42f0-93f2-aba98b38f950"
      },
      "source": [
        "name = \"Darshan\"\n",
        "print(name)\n",
        "print(type(name))"
      ],
      "execution_count": 30,
      "outputs": [
        {
          "output_type": "stream",
          "text": [
            "Darshan\n",
            "<class 'str'>\n"
          ],
          "name": "stdout"
        }
      ]
    },
    {
      "cell_type": "code",
      "metadata": {
        "colab": {
          "base_uri": "https://localhost:8080/"
        },
        "id": "5SlOu07Y3q-Y",
        "outputId": "53a44f18-ed31-4b50-cae9-4dff87142ee1"
      },
      "source": [
        "name = \"d\"\n",
        "print(name)\n",
        "print(type(name))"
      ],
      "execution_count": 31,
      "outputs": [
        {
          "output_type": "stream",
          "text": [
            "d\n",
            "<class 'str'>\n"
          ],
          "name": "stdout"
        }
      ]
    },
    {
      "cell_type": "code",
      "metadata": {
        "colab": {
          "base_uri": "https://localhost:8080/"
        },
        "id": "QwSOWlaw3s2I",
        "outputId": "b7092bab-34ae-4f05-e91b-07987c5d2ab3"
      },
      "source": [
        "name = 'Darshan'\n",
        "print(name)\n",
        "print(type(name))"
      ],
      "execution_count": 32,
      "outputs": [
        {
          "output_type": "stream",
          "text": [
            "Darshan\n",
            "<class 'str'>\n"
          ],
          "name": "stdout"
        }
      ]
    },
    {
      "cell_type": "code",
      "metadata": {
        "colab": {
          "base_uri": "https://localhost:8080/"
        },
        "id": "oIrz7x3z3vf4",
        "outputId": "c3f534da-656e-4df2-bd2f-0087384e17ba"
      },
      "source": [
        "name = 'd'\n",
        "print(name)\n",
        "print(type(name))"
      ],
      "execution_count": 33,
      "outputs": [
        {
          "output_type": "stream",
          "text": [
            "d\n",
            "<class 'str'>\n"
          ],
          "name": "stdout"
        }
      ]
    },
    {
      "cell_type": "code",
      "metadata": {
        "colab": {
          "base_uri": "https://localhost:8080/"
        },
        "id": "xt1I_ErL3xQI",
        "outputId": "b3602be8-2e94-47d3-a640-a356c7a46c10"
      },
      "source": [
        "# Write a program to accept three numbers from the user \n",
        "# and display the largest number.\n",
        "\n",
        "a = int(input(\"Enter the 1st number:\"))\n",
        "b = int(input(\"Enter the 2nd number:\"))\n",
        "c = int(input(\"Enter the 3rd number:\"))\n",
        "\n",
        "if a>b:\n",
        "  if a>c:\n",
        "    print(a,\"is the largest\")\n",
        "  else:\n",
        "    print(c,\"is the largest\")\n",
        "elif b>c:\n",
        "  print(b,\"is the largest\")"
      ],
      "execution_count": 36,
      "outputs": [
        {
          "output_type": "stream",
          "text": [
            "Enter the 1st number:11\n",
            "Enter the 2nd number:44\n",
            "Enter the 3rd number:666\n"
          ],
          "name": "stdout"
        }
      ]
    },
    {
      "cell_type": "markdown",
      "metadata": {
        "id": "Z3S-fRPS_9G7"
      },
      "source": [
        "# Happy Learning"
      ]
    }
  ]
}